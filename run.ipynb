{
 "cells": [
  {
   "cell_type": "code",
   "execution_count": 1,
   "id": "48eef055",
   "metadata": {},
   "outputs": [],
   "source": []
  },
  {
   "cell_type": "code",
   "execution_count": null,
   "id": "0db68530",
   "metadata": {},
   "outputs": [],
   "source": []
  },
  {
   "cell_type": "code",
   "execution_count": null,
   "id": "3475dd37",
   "metadata": {},
   "outputs": [],
   "source": [
    "ht_model = joblib.load('height_model.pkl')\n",
    "wt_model = joblib.load('width_model.pkl')\n",
    "dt_model = joblib.load('depth_model.pkl')\n",
    "generic_model = joblib.load('generic_model.pkl')"
   ]
  },
  {
   "cell_type": "code",
   "execution_count": 19,
   "id": "bc4e32f3",
   "metadata": {},
   "outputs": [],
   "source": [
    "def get_model(entity_name):\n",
    "    model = None\n",
    "    \n",
    "    match entity_name:\n",
    "        case \"height\":\n",
    "            return ht_model\n",
    "        case \"width\":\n",
    "            return wt_model\n",
    "        case \"depth\":\n",
    "            return dt_model\n",
    "        case default:\n",
    "            return generic_model"
   ]
  },
  {
   "cell_type": "code",
   "execution_count": 16,
   "id": "ab711013",
   "metadata": {},
   "outputs": [],
   "source": [
    "def get_probability_from_model(columns, entity_name):\n",
    "    columns = normalize_columns(columns)\n",
    "    \n",
    "    # Load the saved model\n",
    "    model = get_model(entity_name)\n",
    "\n",
    "    feature_names = ['x_min', 'y_min', 'height', 'width', 'zero', 'plus_90', 'minus_90']\n",
    "\n",
    "    # Convert the list to a DataFrame with correct feature names\n",
    "    features = pd.DataFrame([columns], columns=feature_names)\n",
    "\n",
    "    predicted_proba = model.predict_proba(features)\n",
    "    return predicted_proba[0]"
   ]
  },
  {
   "cell_type": "code",
   "execution_count": 3,
   "id": "108d1cc0",
   "metadata": {},
   "outputs": [],
   "source": [
    "def normalize_columns(columns):\n",
    "    \n",
    "    scaling_factors = {\n",
    "     'x_min': {'mean': np.float64(579.5818181818182), 'std': np.float64(428.7543841006432)},\n",
    "     'y_min': {'mean': np.float64(1007.4545454545455), 'std': np.float64(521.0780782535028)}, \n",
    "     'height': {'mean': np.float64(40.836363636363636), 'std': np.float64(35.57764780826612)},\n",
    "     'width': {'mean': np.float64(46.345454545454544), 'std': np.float64(41.67476284978546)}\n",
    "    }\n",
    "\n",
    "    new_columns = {\n",
    "        'x_min':(columns['x_min'] - scaling_factors['x_min']['mean'])/scaling_factors['x_min']['std'],\n",
    "        'y_min':(columns['y_min'] - scaling_factors['y_min']['mean'])/scaling_factors['y_min']['std'],\n",
    "        'height':(columns['height'] - scaling_factors['height']['mean'])/scaling_factors['height']['std'],\n",
    "        'width':(columns['width'] - scaling_factors['width']['mean'])/scaling_factors['width']['std'],\n",
    "        'zero':columns['zero'],\n",
    "        'plus_90':columns['plus_90'],\n",
    "        'minus_90':columns['minus_90']\n",
    "    }\n",
    "\n",
    "    return new_columns"
   ]
  },
  {
   "cell_type": "code",
   "execution_count": 2,
   "id": "5c657283",
   "metadata": {},
   "outputs": [],
   "source": [
    "def expand_orientation(orientation):\n",
    "\n",
    "    if orientation[-2] == '_':\n",
    "        # zero\n",
    "        return 1,0,0\n",
    "    elif orientation[-4] == 'g':\n",
    "        # neg\n",
    "        return 0,0,1\n",
    "    else:\n",
    "        # pos\n",
    "        return 0,1,0"
   ]
  },
  {
   "cell_type": "code",
   "execution_count": null,
   "id": "d29ac88b",
   "metadata": {},
   "outputs": [],
   "source": [
    "## format:\n",
    "\n",
    "## metadata_value x_min y_min height width orientation\n",
    "## 200mg           600    400    45    67     ocr_results_0 "
   ]
  },
  {
   "cell_type": "code",
   "execution_count": null,
   "id": "a45dbbc9",
   "metadata": {},
   "outputs": [],
   "source": [
    "def get_paddle_data(image_link, category_id, entity_name):\n",
    "    \n",
    "    #call whatever the fuck you want to and get me the data\n",
    "    return 42"
   ]
  },
  {
   "cell_type": "code",
   "execution_count": null,
   "id": "b13515a5",
   "metadata": {},
   "outputs": [],
   "source": [
    "def get_probabilities(image_link, category_id, entity_name):\n",
    "    \n",
    "    option_df = get_paddle_data(image_link, category_id, entity_name)\n",
    "    options = []\n",
    "    for index, row in option_df.iterrows():\n",
    "        \n",
    "        zero, plus_90, minus_90 = expand_orientation(rows['orientation'])\n",
    "        \n",
    "        word = row['metadata_value']\n",
    "        columns = {\n",
    "            'x_min':row['x_min'],\n",
    "            'y_min':row['y_min'],\n",
    "            'height':row['width'],\n",
    "            'width':row['height'],\n",
    "            'zero':zero,\n",
    "            'plus_90':plus_90,\n",
    "            'minus_90':minus_90\n",
    "        }\n",
    "\n",
    "        prob = get_probability_from_model(columns, entity_name)\n",
    "        options.append({'word':word,'prob':prob[1]})\n",
    "    return options"
   ]
  },
  {
   "cell_type": "code",
   "execution_count": null,
   "id": "7bbcc6d0",
   "metadata": {},
   "outputs": [],
   "source": [
    "def predictor(image_link, category_id, entity_name):\n",
    "    a = get_probabilities(image_link, category_id, entity_name)\n",
    "    max_prob = -1\n",
    "    best_guess = \"\"\n",
    "    for values in a:\n",
    "        if(values['prob']>max_prob):\n",
    "            max_prob = values['prob']\n",
    "            best_guess = values['word']\n",
    "    print best_guess"
   ]
  }
 ],
 "metadata": {
  "kernelspec": {
   "display_name": "Python 3 (ipykernel)",
   "language": "python",
   "name": "python3"
  },
  "language_info": {
   "codemirror_mode": {
    "name": "ipython",
    "version": 3
   },
   "file_extension": ".py",
   "mimetype": "text/x-python",
   "name": "python",
   "nbconvert_exporter": "python",
   "pygments_lexer": "ipython3",
   "version": "3.10.11"
  }
 },
 "nbformat": 4,
 "nbformat_minor": 5
}
