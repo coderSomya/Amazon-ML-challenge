{
 "cells": [
  {
   "cell_type": "code",
   "execution_count": 1,
   "id": "48eef055",
   "metadata": {},
   "outputs": [],
   "source": []
  },
  {
   "cell_type": "code",
   "execution_count": 4,
   "id": "0db68530",
   "metadata": {},
   "outputs": [],
   "source": [
    "import joblib\n",
    "import pandas as pd"
   ]
  },
  {
   "cell_type": "code",
   "execution_count": 1,
   "id": "3475dd37",
   "metadata": {},
   "outputs": [
    {
     "ename": "NameError",
     "evalue": "name 'joblib' is not defined",
     "output_type": "error",
     "traceback": [
      "\u001b[0;31m---------------------------------------------------------------------------\u001b[0m",
      "\u001b[0;31mNameError\u001b[0m                                 Traceback (most recent call last)",
      "Cell \u001b[0;32mIn[1], line 4\u001b[0m\n\u001b[1;32m      1\u001b[0m \u001b[38;5;66;03m# ht_model = joblib.load('height_model.pkl')\u001b[39;00m\n\u001b[1;32m      2\u001b[0m \u001b[38;5;66;03m# wt_model = joblib.load('width_model.pkl')\u001b[39;00m\n\u001b[1;32m      3\u001b[0m \u001b[38;5;66;03m# dt_model = joblib.load('depth_model.pkl')\u001b[39;00m\n\u001b[0;32m----> 4\u001b[0m generic_model \u001b[38;5;241m=\u001b[39m \u001b[43mjoblib\u001b[49m\u001b[38;5;241m.\u001b[39mload(\u001b[38;5;124m'\u001b[39m\u001b[38;5;124mgeneric_model.pkl\u001b[39m\u001b[38;5;124m'\u001b[39m)\n",
      "\u001b[0;31mNameError\u001b[0m: name 'joblib' is not defined"
     ]
    }
   ],
   "source": [
    "# ht_model = joblib.load('height_model.pkl')\n",
    "# wt_model = joblib.load('width_model.pkl')\n",
    "# dt_model = joblib.load('depth_model.pkl')\n",
    "generic_model = joblib.load('generic_model.pkl')"
   ]
  },
  {
   "cell_type": "code",
   "execution_count": 5,
   "id": "bc4e32f3",
   "metadata": {},
   "outputs": [],
   "source": [
    "def get_model(entity_name):\n",
    "    model = None\n",
    "    \n",
    "    match entity_name:\n",
    "        case \"height\":\n",
    "            return ht_model\n",
    "        case \"width\":\n",
    "            return wt_model\n",
    "        case \"depth\":\n",
    "            return dt_model\n",
    "        case default:\n",
    "            return generic_model"
   ]
  },
  {
   "cell_type": "code",
   "execution_count": 6,
   "id": "ab711013",
   "metadata": {},
   "outputs": [],
   "source": [
    "def get_probability_from_model(columns, entity_name):\n",
    "    columns = normalize_columns(columns)\n",
    "    \n",
    "    # Load the saved model\n",
    "    model = get_model(entity_name)\n",
    "\n",
    "    feature_names = ['x_min', 'y_min', 'height', 'width', 'zero', 'plus_90', 'minus_90']\n",
    "\n",
    "    # Convert the list to a DataFrame with correct feature names\n",
    "    features = pd.DataFrame([columns], columns=feature_names)\n",
    "\n",
    "    predicted_proba = model.predict_proba(features)\n",
    "    return predicted_proba[0]"
   ]
  },
  {
   "cell_type": "code",
   "execution_count": 7,
   "id": "108d1cc0",
   "metadata": {},
   "outputs": [],
   "source": [
    "def normalize_columns(columns):\n",
    "    \n",
    "    scaling_factors = {\n",
    "     'x_min': {'mean': np.float64(695.447529150472), 'std': np.float64(494.83945389032766)},\n",
    "     'y_min': {'mean': np.float64(873.8738200999445), 'std': np.float64(488.82084409116834)}, \n",
    "     'height': {'mean': np.float64(49.70016657412548), 'std': np.float64(52.56778724634215)},\n",
    "     'width': {'mean': np.float64(255.19614103275958), 'std': np.float64(219.7430970874373)}\n",
    "    }\n",
    "\n",
    "    new_columns = {\n",
    "        'x_min':(columns['x_min'] - scaling_factors['x_min']['mean'])/scaling_factors['x_min']['std'],\n",
    "        'y_min':(columns['y_min'] - scaling_factors['y_min']['mean'])/scaling_factors['y_min']['std'],\n",
    "        'height':(columns['height'] - scaling_factors['height']['mean'])/scaling_factors['height']['std'],\n",
    "        'width':(columns['width'] - scaling_factors['width']['mean'])/scaling_factors['width']['std'],\n",
    "        'zero':columns['zero'],\n",
    "        'plus_90':columns['plus_90'],\n",
    "        'minus_90':columns['minus_90']\n",
    "    }\n",
    "\n",
    "    return new_columns"
   ]
  },
  {
   "cell_type": "code",
   "execution_count": 8,
   "id": "5c657283",
   "metadata": {},
   "outputs": [],
   "source": [
    "def expand_orientation(orientation):\n",
    "\n",
    "    if orientation[-2] == '_':\n",
    "        # zero\n",
    "        return 1,0,0\n",
    "    elif orientation[-4] == 'g':\n",
    "        # neg\n",
    "        return 0,0,1\n",
    "    else:\n",
    "        # pos\n",
    "        return 0,1,0"
   ]
  },
  {
   "cell_type": "code",
   "execution_count": 9,
   "id": "d29ac88b",
   "metadata": {},
   "outputs": [],
   "source": [
    "## format:\n",
    "\n",
    "## metadata_value x_min y_min height width orientation\n",
    "## 200mg           600    400    45    67     ocr_results_0 "
   ]
  },
  {
   "cell_type": "code",
   "execution_count": 10,
   "id": "a45dbbc9",
   "metadata": {},
   "outputs": [],
   "source": [
    "def get_paddle_data(image_link, category_id, entity_name):\n",
    "    \n",
    "    #call whatever the fuck you want to and get me the data\n",
    "    a = {\n",
    "        \"orientation\":\"ocr_results_neg_90\",\n",
    "        \"metadata_value\":\"1023g\",\n",
    "        \"x_min\":\"1708.0\",\n",
    "        \"x_max\":\"2075.0\",\n",
    "        \"y_min\":\"1930.0\",\n",
    "        \"y_max\":\"2168.0\",\n",
    "        \"\"2400\",\"1023.0 gram\"]\n",
    "    \n",
    "    return pd.Data"
   ]
  },
  {
   "cell_type": "code",
   "execution_count": 11,
   "id": "b13515a5",
   "metadata": {},
   "outputs": [],
   "source": [
    "def get_probabilities(image_link, category_id, entity_name):\n",
    "    \n",
    "    option_df = get_paddle_data(image_link, category_id, entity_name)\n",
    "    options = []\n",
    "    for index, row in option_df.iterrows():\n",
    "        \n",
    "        zero, plus_90, minus_90 = expand_orientation(rows['orientation'])\n",
    "        \n",
    "        word = row['metadata_value']\n",
    "        columns = {\n",
    "            'x_min':row['x_min'],\n",
    "            'y_min':row['y_min'],\n",
    "            'height':row['width'],\n",
    "            'width':row['height'],\n",
    "            'zero':zero,\n",
    "            'plus_90':plus_90,\n",
    "            'minus_90':minus_90\n",
    "        }\n",
    "\n",
    "        prob = get_probability_from_model(columns, entity_name)\n",
    "        options.append({'word':word,'prob':prob[1]})\n",
    "    return options"
   ]
  },
  {
   "cell_type": "code",
   "execution_count": 13,
   "id": "7bbcc6d0",
   "metadata": {},
   "outputs": [],
   "source": [
    "def predictor(image_link, category_id, entity_name):\n",
    "    a = get_probabilities(image_link, category_id, entity_name)\n",
    "    max_prob = -1\n",
    "    best_guess = \"\"\n",
    "    for values in a:\n",
    "        if(values['prob']>max_prob):\n",
    "            max_prob = values['prob']\n",
    "            best_guess = values['word']\n",
    "    print(best_guess)"
   ]
  },
  {
   "cell_type": "code",
   "execution_count": 14,
   "id": "41e60475-84a3-4b16-bc62-868688197425",
   "metadata": {},
   "outputs": [
    {
     "ename": "AttributeError",
     "evalue": "'int' object has no attribute 'iterrows'",
     "output_type": "error",
     "traceback": [
      "\u001b[0;31m---------------------------------------------------------------------------\u001b[0m",
      "\u001b[0;31mAttributeError\u001b[0m                            Traceback (most recent call last)",
      "Cell \u001b[0;32mIn[14], line 1\u001b[0m\n\u001b[0;32m----> 1\u001b[0m \u001b[43mpredictor\u001b[49m\u001b[43m(\u001b[49m\u001b[38;5;124;43m\"\u001b[39;49m\u001b[38;5;124;43mhttps://m.media-amazon.com/images/I/11gHj8dhhrL.jpg\u001b[39;49m\u001b[38;5;124;43m\"\u001b[39;49m\u001b[43m,\u001b[49m\u001b[38;5;241;43m792578\u001b[39;49m\u001b[43m,\u001b[49m\u001b[38;5;124;43m\"\u001b[39;49m\u001b[38;5;124;43mwidth\u001b[39;49m\u001b[38;5;124;43m\"\u001b[39;49m\u001b[43m)\u001b[49m\n",
      "Cell \u001b[0;32mIn[13], line 2\u001b[0m, in \u001b[0;36mpredictor\u001b[0;34m(image_link, category_id, entity_name)\u001b[0m\n\u001b[1;32m      1\u001b[0m \u001b[38;5;28;01mdef\u001b[39;00m \u001b[38;5;21mpredictor\u001b[39m(image_link, category_id, entity_name):\n\u001b[0;32m----> 2\u001b[0m     a \u001b[38;5;241m=\u001b[39m \u001b[43mget_probabilities\u001b[49m\u001b[43m(\u001b[49m\u001b[43mimage_link\u001b[49m\u001b[43m,\u001b[49m\u001b[43m \u001b[49m\u001b[43mcategory_id\u001b[49m\u001b[43m,\u001b[49m\u001b[43m \u001b[49m\u001b[43mentity_name\u001b[49m\u001b[43m)\u001b[49m\n\u001b[1;32m      3\u001b[0m     max_prob \u001b[38;5;241m=\u001b[39m \u001b[38;5;241m-\u001b[39m\u001b[38;5;241m1\u001b[39m\n\u001b[1;32m      4\u001b[0m     best_guess \u001b[38;5;241m=\u001b[39m \u001b[38;5;124m\"\u001b[39m\u001b[38;5;124m\"\u001b[39m\n",
      "Cell \u001b[0;32mIn[11], line 5\u001b[0m, in \u001b[0;36mget_probabilities\u001b[0;34m(image_link, category_id, entity_name)\u001b[0m\n\u001b[1;32m      3\u001b[0m option_df \u001b[38;5;241m=\u001b[39m get_paddle_data(image_link, category_id, entity_name)\n\u001b[1;32m      4\u001b[0m options \u001b[38;5;241m=\u001b[39m []\n\u001b[0;32m----> 5\u001b[0m \u001b[38;5;28;01mfor\u001b[39;00m index, row \u001b[38;5;129;01min\u001b[39;00m \u001b[43moption_df\u001b[49m\u001b[38;5;241;43m.\u001b[39;49m\u001b[43miterrows\u001b[49m():\n\u001b[1;32m      7\u001b[0m     zero, plus_90, minus_90 \u001b[38;5;241m=\u001b[39m expand_orientation(rows[\u001b[38;5;124m'\u001b[39m\u001b[38;5;124morientation\u001b[39m\u001b[38;5;124m'\u001b[39m])\n\u001b[1;32m      9\u001b[0m     word \u001b[38;5;241m=\u001b[39m row[\u001b[38;5;124m'\u001b[39m\u001b[38;5;124mmetadata_value\u001b[39m\u001b[38;5;124m'\u001b[39m]\n",
      "\u001b[0;31mAttributeError\u001b[0m: 'int' object has no attribute 'iterrows'"
     ]
    }
   ],
   "source": [
    "predictor(\"https://m.media-amazon.com/images/I/11gHj8dhhrL.jpg\",792578,\"width\")"
   ]
  },
  {
   "cell_type": "code",
   "execution_count": null,
   "id": "615c8894-9fea-4039-bf05-0e3d577f4f30",
   "metadata": {},
   "outputs": [],
   "source": []
  }
 ],
 "metadata": {
  "kernelspec": {
   "display_name": "Python 3 (ipykernel)",
   "language": "python",
   "name": "python3"
  },
  "language_info": {
   "codemirror_mode": {
    "name": "ipython",
    "version": 3
   },
   "file_extension": ".py",
   "mimetype": "text/x-python",
   "name": "python",
   "nbconvert_exporter": "python",
   "pygments_lexer": "ipython3",
   "version": "3.12.5"
  }
 },
 "nbformat": 4,
 "nbformat_minor": 5
}
