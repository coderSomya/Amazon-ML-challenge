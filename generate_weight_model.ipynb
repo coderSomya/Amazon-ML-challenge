{
 "cells": [
  {
   "cell_type": "code",
   "execution_count": 40,
   "id": "70ee3148-9174-43b6-a46f-cde359756a75",
   "metadata": {},
   "outputs": [],
   "source": [
    "import pandas as pd"
   ]
  },
  {
   "cell_type": "code",
   "execution_count": 49,
   "id": "da309f56-056d-4e10-9edd-7511ffb29d48",
   "metadata": {},
   "outputs": [],
   "source": [
    "df = pd.read_csv('labelled.csv')"
   ]
  },
  {
   "cell_type": "code",
   "execution_count": 50,
   "id": "8c0d6a05-7f5e-4de1-adbe-c921465c58ed",
   "metadata": {},
   "outputs": [
    {
     "data": {
      "text/html": [
       "<div>\n",
       "<style scoped>\n",
       "    .dataframe tbody tr th:only-of-type {\n",
       "        vertical-align: middle;\n",
       "    }\n",
       "\n",
       "    .dataframe tbody tr th {\n",
       "        vertical-align: top;\n",
       "    }\n",
       "\n",
       "    .dataframe thead th {\n",
       "        text-align: right;\n",
       "    }\n",
       "</style>\n",
       "<table border=\"1\" class=\"dataframe\">\n",
       "  <thead>\n",
       "    <tr style=\"text-align: right;\">\n",
       "      <th></th>\n",
       "      <th>Unnamed: 0</th>\n",
       "      <th>feature_0</th>\n",
       "      <th>feature_1</th>\n",
       "      <th>feature_2</th>\n",
       "      <th>feature_3</th>\n",
       "      <th>feature_4</th>\n",
       "      <th>feature_5</th>\n",
       "      <th>feature_6</th>\n",
       "      <th>feature_7</th>\n",
       "      <th>0</th>\n",
       "    </tr>\n",
       "  </thead>\n",
       "  <tbody>\n",
       "    <tr>\n",
       "      <th>0</th>\n",
       "      <td>0</td>\n",
       "      <td>723</td>\n",
       "      <td>698</td>\n",
       "      <td>34</td>\n",
       "      <td>22</td>\n",
       "      <td>0 degrees</td>\n",
       "      <td>69</td>\n",
       "      <td>459516</td>\n",
       "      <td>weight</td>\n",
       "      <td>0</td>\n",
       "    </tr>\n",
       "    <tr>\n",
       "      <th>1</th>\n",
       "      <td>1</td>\n",
       "      <td>289</td>\n",
       "      <td>328</td>\n",
       "      <td>17</td>\n",
       "      <td>16</td>\n",
       "      <td>0 degrees</td>\n",
       "      <td>57</td>\n",
       "      <td>459516</td>\n",
       "      <td>weight</td>\n",
       "      <td>0</td>\n",
       "    </tr>\n",
       "    <tr>\n",
       "      <th>2</th>\n",
       "      <td>2</td>\n",
       "      <td>499</td>\n",
       "      <td>753</td>\n",
       "      <td>17</td>\n",
       "      <td>25</td>\n",
       "      <td>0 degrees</td>\n",
       "      <td>0</td>\n",
       "      <td>459516</td>\n",
       "      <td>weight</td>\n",
       "      <td>0</td>\n",
       "    </tr>\n",
       "    <tr>\n",
       "      <th>3</th>\n",
       "      <td>3</td>\n",
       "      <td>439</td>\n",
       "      <td>651</td>\n",
       "      <td>17</td>\n",
       "      <td>17</td>\n",
       "      <td>0 degrees</td>\n",
       "      <td>29</td>\n",
       "      <td>459516</td>\n",
       "      <td>weight</td>\n",
       "      <td>0</td>\n",
       "    </tr>\n",
       "    <tr>\n",
       "      <th>4</th>\n",
       "      <td>4</td>\n",
       "      <td>361</td>\n",
       "      <td>723</td>\n",
       "      <td>22</td>\n",
       "      <td>34</td>\n",
       "      <td>0 degrees</td>\n",
       "      <td>69</td>\n",
       "      <td>459516</td>\n",
       "      <td>weight</td>\n",
       "      <td>0</td>\n",
       "    </tr>\n",
       "  </tbody>\n",
       "</table>\n",
       "</div>"
      ],
      "text/plain": [
       "   Unnamed: 0  feature_0  feature_1  feature_2  feature_3  feature_4  \\\n",
       "0           0        723        698         34         22  0 degrees   \n",
       "1           1        289        328         17         16  0 degrees   \n",
       "2           2        499        753         17         25  0 degrees   \n",
       "3           3        439        651         17         17  0 degrees   \n",
       "4           4        361        723         22         34  0 degrees   \n",
       "\n",
       "   feature_5  feature_6 feature_7  0  \n",
       "0         69     459516    weight  0  \n",
       "1         57     459516    weight  0  \n",
       "2          0     459516    weight  0  \n",
       "3         29     459516    weight  0  \n",
       "4         69     459516    weight  0  "
      ]
     },
     "execution_count": 50,
     "metadata": {},
     "output_type": "execute_result"
    }
   ],
   "source": [
    "df.head()"
   ]
  },
  {
   "cell_type": "code",
   "execution_count": 51,
   "id": "de54e2d2-3c45-400c-859b-ef5c0347c2f2",
   "metadata": {},
   "outputs": [],
   "source": [
    "weight_df = df[df['feature_7']==\"weight\"]"
   ]
  },
  {
   "cell_type": "code",
   "execution_count": 52,
   "id": "964fb56d-b73c-49fc-a152-392c57bac15d",
   "metadata": {},
   "outputs": [],
   "source": [
    "X = weight_df[['feature_0', 'feature_1', 'feature_2', 'feature_3', 'feature_4', 'feature_6']]"
   ]
  },
  {
   "cell_type": "code",
   "execution_count": 53,
   "id": "119bbafd-53a0-4511-bb9d-2cb8dd6e4ae4",
   "metadata": {},
   "outputs": [],
   "source": [
    "Y = weight_df['0']"
   ]
  },
  {
   "cell_type": "code",
   "execution_count": 54,
   "id": "8513de7d-93ca-4695-8be1-9a4c82b85948",
   "metadata": {},
   "outputs": [],
   "source": [
    "orientation_encoded = pd.get_dummies(X['feature_4'])\n",
    "groupid_encoded = pd.get_dummies(X['feature_6'])\n",
    "\n",
    "# Drop the original 'color' column\n",
    "X = X.drop('feature_4', axis=1)\n",
    "X = X.drop('feature_6', axis=1)\n",
    "X = pd.concat([X,orientation_encoded, groupid_encoded], axis=1)"
   ]
  },
  {
   "cell_type": "code",
   "execution_count": 55,
   "id": "e5b79ef8-4e8e-45b5-a37c-26c149b32e1e",
   "metadata": {},
   "outputs": [],
   "source": [
    "from sklearn.preprocessing import StandardScaler\n",
    "\n",
    "numeric_columns = ['feature_1', 'feature_2', 'feature_3','feature_0']\n",
    "\n",
    "scaler = StandardScaler()\n",
    "\n",
    "X[numeric_columns] = scaler.fit_transform(X[numeric_columns])"
   ]
  },
  {
   "cell_type": "code",
   "execution_count": 58,
   "id": "270e18c2-8b5e-4f98-9c6a-5f8423c71d94",
   "metadata": {},
   "outputs": [],
   "source": [
    "X.columns = X.columns.astype(str)"
   ]
  },
  {
   "cell_type": "code",
   "execution_count": 60,
   "id": "41ef7182-662e-48c3-8b4f-4822950a8a0c",
   "metadata": {},
   "outputs": [
    {
     "name": "stdout",
     "output_type": "stream",
     "text": [
      "Accuracy: 0.8181818181818182\n",
      "\n",
      "Classification Report:\n",
      "               precision    recall  f1-score   support\n",
      "\n",
      "           0       0.89      0.89      0.89         9\n",
      "           1       0.50      0.50      0.50         2\n",
      "\n",
      "    accuracy                           0.82        11\n",
      "   macro avg       0.69      0.69      0.69        11\n",
      "weighted avg       0.82      0.82      0.82        11\n",
      "\n"
     ]
    }
   ],
   "source": [
    "import pandas as pd\n",
    "import numpy as np\n",
    "from sklearn.model_selection import train_test_split\n",
    "from sklearn.ensemble import RandomForestClassifier\n",
    "from sklearn.metrics import classification_report, accuracy_score\n",
    "\n",
    "X_train, X_test, y_train, y_test = train_test_split(X, Y, test_size=0.2, random_state=42)\n",
    "\n",
    "weight_model = RandomForestClassifier(random_state=42)\n",
    "weight_model.fit(X_train, y_train)\n",
    "\n",
    "y_pred = weight_model.predict(X_test)\n",
    "\n",
    "print(\"Accuracy:\", accuracy_score(y_test, y_pred))\n",
    "print(\"\\nClassification Report:\\n\", classification_report(y_test, y_pred))"
   ]
  },
  {
   "cell_type": "code",
   "execution_count": null,
   "id": "73c01362-1045-4e31-b7de-a9ed59bb4870",
   "metadata": {},
   "outputs": [],
   "source": []
  }
 ],
 "metadata": {
  "kernelspec": {
   "display_name": "Python 3 (ipykernel)",
   "language": "python",
   "name": "python3"
  },
  "language_info": {
   "codemirror_mode": {
    "name": "ipython",
    "version": 3
   },
   "file_extension": ".py",
   "mimetype": "text/x-python",
   "name": "python",
   "nbconvert_exporter": "python",
   "pygments_lexer": "ipython3",
   "version": "3.12.5"
  }
 },
 "nbformat": 4,
 "nbformat_minor": 5
}
